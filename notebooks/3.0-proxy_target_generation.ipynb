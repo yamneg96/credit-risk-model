{
 "cells": [
  {
   "cell_type": "code",
   "execution_count": null,
   "metadata": {},
   "outputs": [],
   "source": [
    "# !pip install datetime sklearn"
   ]
  },
  {
   "cell_type": "code",
   "execution_count": null,
   "metadata": {},
   "outputs": [],
   "source": [
    "from datetime import datetime\n",
    "from sklearn.cluster import KMeans\n",
    "from sklearn.preprocessing import StandardScaler\n",
    "\n",
    "df = pd.read_csv('../data/processed/engineered_data.csv')\n",
    "\n",
    "# Calculate RFM metrics\n",
    "snapshot_date = datetime(2023, 12, 31)\n",
    "rfm = df.groupby('CustomerId').agg({\n",
    "    'TransactionStartTime': lambda x: (snapshot_date - pd.to_datetime(x).max()).days,\n",
    "    'TransactionId': 'count',\n",
    "    'Amount': 'sum'\n",
    "}).reset_index()\n",
    "rfm.columns = ['CustomerId', 'Recency', 'Frequency', 'Monetary']\n",
    "\n",
    "# Clustering\n",
    "X = StandardScaler().fit_transform(rfm[['Recency', 'Frequency', 'Monetary']])\n",
    "kmeans = KMeans(n_clusters=3, random_state=42)\n",
    "rfm['Cluster'] = kmeans.fit_predict(X)\n",
    "\n",
    "# Assume cluster 0 is high-risk\n",
    "high_risk_cluster = rfm.groupby('Cluster')['Monetary'].mean().idxmin()\n",
    "rfm['is_high_risk'] = (rfm['Cluster'] == high_risk_cluster).astype(int)\n",
    "\n",
    "df = df.merge(rfm[['CustomerId', 'is_high_risk']], on='CustomerId')\n",
    "df.to_csv('../data/processed/labeled_data.csv', index=False)\n"
   ]
  }
 ],
 "metadata": {
  "kernelspec": {
   "display_name": "venv",
   "language": "python",
   "name": "python3"
  },
  "language_info": {
   "codemirror_mode": {
    "name": "ipython",
    "version": 3
   },
   "file_extension": ".py",
   "mimetype": "text/x-python",
   "name": "python",
   "nbconvert_exporter": "python",
   "pygments_lexer": "ipython3",
   "version": "3.13.2"
  }
 },
 "nbformat": 4,
 "nbformat_minor": 2
}
